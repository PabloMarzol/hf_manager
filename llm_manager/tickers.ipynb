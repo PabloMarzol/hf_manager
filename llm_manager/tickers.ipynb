{
 "cells": [
  {
   "cell_type": "code",
   "execution_count": null,
   "id": "7cb98fc3",
   "metadata": {},
   "outputs": [],
   "source": [
    "import polars as pl\n"
   ]
  },
  {
   "cell_type": "code",
   "execution_count": 18,
   "id": "075ffeea",
   "metadata": {},
   "outputs": [
    {
     "data": {
      "text/html": [
       "<div><style>\n",
       ".dataframe > thead > tr,\n",
       ".dataframe > tbody > tr {\n",
       "  text-align: right;\n",
       "  white-space: pre-wrap;\n",
       "}\n",
       "</style>\n",
       "<small>shape: (9_732, 3)</small><table border=\"1\" class=\"dataframe\"><thead><tr><th>cik_str</th><th>ticker</th><th>title</th></tr><tr><td>i64</td><td>str</td><td>str</td></tr></thead><tbody><tr><td>320193</td><td>&quot;AAPL&quot;</td><td>&quot;Apple Inc.&quot;</td></tr><tr><td>789019</td><td>&quot;MSFT&quot;</td><td>&quot;MICROSOFT CORP&quot;</td></tr><tr><td>1045810</td><td>&quot;NVDA&quot;</td><td>&quot;NVIDIA CORP&quot;</td></tr><tr><td>1018724</td><td>&quot;AMZN&quot;</td><td>&quot;AMAZON COM INC&quot;</td></tr><tr><td>1652044</td><td>&quot;GOOGL&quot;</td><td>&quot;Alphabet Inc.&quot;</td></tr><tr><td>&hellip;</td><td>&hellip;</td><td>&hellip;</td></tr><tr><td>1848334</td><td>&quot;OKMN&quot;</td><td>&quot;OKMIN RESOURCES, INC.&quot;</td></tr><tr><td>886163</td><td>&quot;LGNDZ&quot;</td><td>&quot;LIGAND PHARMACEUTICALS INC&quot;</td></tr><tr><td>886163</td><td>&quot;LGNXZ&quot;</td><td>&quot;LIGAND PHARMACEUTICALS INC&quot;</td></tr><tr><td>886163</td><td>&quot;LGNYZ&quot;</td><td>&quot;LIGAND PHARMACEUTICALS INC&quot;</td></tr><tr><td>886163</td><td>&quot;LGNZZ&quot;</td><td>&quot;LIGAND PHARMACEUTICALS INC&quot;</td></tr></tbody></table></div>"
      ],
      "text/plain": [
       "shape: (9_732, 3)\n",
       "┌─────────┬────────┬────────────────────────────┐\n",
       "│ cik_str ┆ ticker ┆ title                      │\n",
       "│ ---     ┆ ---    ┆ ---                        │\n",
       "│ i64     ┆ str    ┆ str                        │\n",
       "╞═════════╪════════╪════════════════════════════╡\n",
       "│ 320193  ┆ AAPL   ┆ Apple Inc.                 │\n",
       "│ 789019  ┆ MSFT   ┆ MICROSOFT CORP             │\n",
       "│ 1045810 ┆ NVDA   ┆ NVIDIA CORP                │\n",
       "│ 1018724 ┆ AMZN   ┆ AMAZON COM INC             │\n",
       "│ 1652044 ┆ GOOGL  ┆ Alphabet Inc.              │\n",
       "│ …       ┆ …      ┆ …                          │\n",
       "│ 1848334 ┆ OKMN   ┆ OKMIN RESOURCES, INC.      │\n",
       "│ 886163  ┆ LGNDZ  ┆ LIGAND PHARMACEUTICALS INC │\n",
       "│ 886163  ┆ LGNXZ  ┆ LIGAND PHARMACEUTICALS INC │\n",
       "│ 886163  ┆ LGNYZ  ┆ LIGAND PHARMACEUTICALS INC │\n",
       "│ 886163  ┆ LGNZZ  ┆ LIGAND PHARMACEUTICALS INC │\n",
       "└─────────┴────────┴────────────────────────────┘"
      ]
     },
     "execution_count": 18,
     "metadata": {},
     "output_type": "execute_result"
    }
   ],
   "source": [
    "stock_universe = pl.read_csv(\"tickers.csv\")\n",
    "\n",
    "stock_universe"
   ]
  }
 ],
 "metadata": {
  "kernelspec": {
   "display_name": "Python 3",
   "language": "python",
   "name": "python3"
  },
  "language_info": {
   "codemirror_mode": {
    "name": "ipython",
    "version": 3
   },
   "file_extension": ".py",
   "mimetype": "text/x-python",
   "name": "python",
   "nbconvert_exporter": "python",
   "pygments_lexer": "ipython3",
   "version": "3.11.0"
  }
 },
 "nbformat": 4,
 "nbformat_minor": 5
}
