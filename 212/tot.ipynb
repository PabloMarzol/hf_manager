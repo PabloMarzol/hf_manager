{
 "cells": [
  {
   "cell_type": "code",
   "execution_count": 72,
   "metadata": {},
   "outputs": [
    {
     "data": {
      "text/plain": [
       "polars.config.Config"
      ]
     },
     "execution_count": 72,
     "metadata": {},
     "output_type": "execute_result"
    }
   ],
   "source": [
    "import requests as req\n",
    "import polars as pl\n",
    "import json\n",
    "import datetime\n",
    "\n",
    "from scipy.optimize import minimize\n",
    "pl.Config.set_tbl_rows(30)"
   ]
  },
  {
   "cell_type": "code",
   "execution_count": 74,
   "metadata": {},
   "outputs": [],
   "source": [
    "class Trading212Client:\n",
    "    def __init__(self, api_key = \"23258933ZjHilkBcSdxjMQxlvDdBmNmWUnpyz\", base_url=\"https://live.trading212.com\"):\n",
    "        self.base_url = base_url\n",
    "        self.headers = {\n",
    "            \"Authorization\": api_key,\n",
    "            \"Content-Type\": \"application/json\"\n",
    "        }\n",
    "    \n",
    "    def get_pies(self):\n",
    "        \"\"\"Fetch all pies from the account\"\"\"\n",
    "        endpoint = \"/api/v0/equity/pies\"\n",
    "        response = req.get(f\"{self.base_url}{endpoint}\", headers=self.headers)\n",
    "        return pl.DataFrame(response.json())\n",
    "    \n",
    "    def update_pie(self, pie_id, pie_request):\n",
    "        \"\"\"Update a pie with new allocations\"\"\"\n",
    "        endpoint = f\"/api/v0/equity/pies/{pie_id}\"\n",
    "        response = req.post(\n",
    "            f\"{self.base_url}{endpoint}\", \n",
    "            headers=self.headers,\n",
    "            json=pie_request\n",
    "        )\n",
    "        return pl.DataFrame(response.json())\n",
    "    \n",
    "    def get_instruments(self):\n",
    "        \"\"\"Fetch all available instruments\"\"\"\n",
    "        endpoint = \"/api/v0/equity/metadata/instruments\"\n",
    "        response = req.get(f\"{self.base_url}{endpoint}\", headers=self.headers)\n",
    "        return pl.DataFrame(response.json())\n",
    "    \n",
    "    def get_portfolio(self):\n",
    "        \"\"\"Fetch current portfolio positions\"\"\"\n",
    "        endpoint = \"/api/v0/equity/portfolio\"\n",
    "        response = req.get(f\"{self.base_url}{endpoint}\", headers=self.headers)\n",
    "        return pl.DataFrame(response.json())"
   ]
  },
  {
   "cell_type": "code",
   "execution_count": 67,
   "metadata": {},
   "outputs": [],
   "source": [
    "positions_df = pl.read_csv(\"O_Positions.csv\")\n",
    "instruments_df = pl.read_csv(\"all_instruments.csv\")\n",
    "\n",
    "# Join Dataset to get full position informations\n",
    "portfolio_df = positions_df.join(\n",
    "    instruments_df.select([\"ticker\", \"type\", \"name\", \"currencyCode\"]),\n",
    "    on = \"ticker\",\n",
    "    how = \"left\"\n",
    ")\n",
    "portfolio_df = portfolio_df.with_columns([\n",
    "    pl.col(\"initialFillDate\").str.strptime(pl.Datetime)\n",
    "])\n"
   ]
  },
  {
   "cell_type": "code",
   "execution_count": 71,
   "metadata": {},
   "outputs": [
    {
     "data": {
      "text/html": [
       "<div><style>\n",
       ".dataframe > thead > tr,\n",
       ".dataframe > tbody > tr {\n",
       "  text-align: right;\n",
       "  white-space: pre-wrap;\n",
       "}\n",
       "</style>\n",
       "<small>shape: (2, 3)</small><table border=\"1\" class=\"dataframe\"><thead><tr><th>type</th><th>exposure_value</th><th>exposure_pct</th></tr><tr><td>str</td><td>f64</td><td>f64</td></tr></thead><tbody><tr><td>&quot;ETF&quot;</td><td>118056.119445</td><td>0.917955</td></tr><tr><td>&quot;STOCK&quot;</td><td>10551.625763</td><td>0.082045</td></tr></tbody></table></div>"
      ],
      "text/plain": [
       "shape: (2, 3)\n",
       "┌───────┬────────────────┬──────────────┐\n",
       "│ type  ┆ exposure_value ┆ exposure_pct │\n",
       "│ ---   ┆ ---            ┆ ---          │\n",
       "│ str   ┆ f64            ┆ f64          │\n",
       "╞═══════╪════════════════╪══════════════╡\n",
       "│ ETF   ┆ 118056.119445  ┆ 0.917955     │\n",
       "│ STOCK ┆ 10551.625763   ┆ 0.082045     │\n",
       "└───────┴────────────────┴──────────────┘"
      ]
     },
     "execution_count": 71,
     "metadata": {},
     "output_type": "execute_result"
    }
   ],
   "source": [
    "# Calculate Portfolio Metrics\n",
    "total_value = (portfolio_df[\"quantity\"] * portfolio_df[\"currentPrice\"]).sum()\n",
    "position_weights = (positions_df[\"quantity\"] * positions_df[\"currentPrice\"]) / total_value\n",
    "\n",
    "exposure_df = portfolio_df.group_by(\"type\").agg([\n",
    "    (pl.col(\"quantity\") * pl.col(\"currentPrice\")).sum().alias(\"exposure_value\"),\n",
    "    ((pl.col(\"quantity\") * pl.col(\"currentPrice\")) / total_value).sum().alias(\"exposure_pct\")\n",
    "]).sort(\"exposure_pct\", descending = True)\n",
    "\n",
    "exposure_df"
   ]
  }
 ],
 "metadata": {
  "kernelspec": {
   "display_name": "Python 3",
   "language": "python",
   "name": "python3"
  },
  "language_info": {
   "codemirror_mode": {
    "name": "ipython",
    "version": 3
   },
   "file_extension": ".py",
   "mimetype": "text/x-python",
   "name": "python",
   "nbconvert_exporter": "python",
   "pygments_lexer": "ipython3",
   "version": "3.11.0"
  }
 },
 "nbformat": 4,
 "nbformat_minor": 2
}
